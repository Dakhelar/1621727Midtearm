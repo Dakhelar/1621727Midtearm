{
 "cells": [
  {
   "cell_type": "code",
   "execution_count": 29,
   "metadata": {},
   "outputs": [],
   "source": [
    "#Load libraries\n",
    "import os\n",
    "import numpy as np\n",
    "import torch\n",
    "import glob\n",
    "import torch.nn as nn\n",
    "from torchvision.transforms import transforms\n",
    "from torch.utils.data import DataLoader\n",
    "from torch.optim import Adam\n",
    "from torch.autograd import Variable\n",
    "import torchvision\n",
    "import pathlib\n",
    "import cv2\n",
    "from PIL import Image\n",
    "import torch.optim as optim\n",
    "from os import listdir,makedirs\n",
    "from os.path import isfile,join\n",
    "\n",
    "\n",
    "# Matplotlib is a visualizations library \n",
    "import matplotlib.pyplot as plt"
   ]
  },
  {
   "cell_type": "code",
   "execution_count": 30,
   "metadata": {},
   "outputs": [],
   "source": [
    "# The code is converting grayscale images to RGB images\n",
    "# and resizing the images to a size of 150 x 150. It is then creating a\n",
    "# transformer object that applies a number of transformations to the images, \n",
    "# including random horizontal flipping, converting the images to tensors, \n",
    "# and normalizing the images. The code then creates data loaders for the training and testing data,\n",
    "# and defines a ConvNet class that defines a convolutional neural network (CNN) model.\n",
    "# This model can then be used to train on the images and make predictions."
   ]
  },
  {
   "cell_type": "code",
   "execution_count": 31,
   "metadata": {},
   "outputs": [],
   "source": [
    "# Define a function to convert grayscale images to RGB\n",
    "def convert_rgb_to_grayscale(input_dir, output_dir):\n",
    "    # Loop over the files in the input directory\n",
    "    for filename in os.listdir(input_dir):\n",
    "        # Load the grayscale image\n",
    "        gray_image = cv2.imread(os.path.join(input_dir, filename), cv2.IMREAD_GRAYSCALE)\n",
    "        \n",
    "        # Save the grayscale image\n",
    "        cv2.imwrite(os.path.join(output_dir, filename), gray_image)\n",
    "\n",
    "\n",
    "# Set the input and output directories for the images\n",
    "input_dir1 = 'test\\Covid'\n",
    "output_dir1 = 'testGray\\Covid'\n",
    "input_dir2 = 'test\\imageNormal'\n",
    "output_dir2 = 'testGray\\imageNormal'\n",
    "input_dir3 = 'test\\Pneumonia'\n",
    "output_dir3 = 'testGray\\Pneumonia'\n",
    "\n",
    "input_dir4 = 'train1\\Covid'\n",
    "output_dir4 = 'trainGray\\Covid'\n",
    "input_dir5 = 'train1\\imageNormal'\n",
    "output_dir5 = 'trainGray\\imageNormal'\n",
    "input_dir6 = 'train1\\Pneumonia'\n",
    "output_dir6 = 'trainGray\\Pneumonia'\n",
    "\n",
    "# Convert the images in each directory\n",
    "convert_rgb_to_grayscale(input_dir1, output_dir1)\n",
    "convert_rgb_to_grayscale(input_dir2, output_dir2)\n",
    "convert_rgb_to_grayscale(input_dir3, output_dir3)\n",
    "convert_rgb_to_grayscale(input_dir4, output_dir4)\n",
    "convert_rgb_to_grayscale(input_dir5, output_dir5)\n",
    "convert_rgb_to_grayscale(input_dir6, output_dir6)\n"
   ]
  },
  {
   "cell_type": "code",
   "execution_count": 32,
   "metadata": {},
   "outputs": [],
   "source": [
    "#First I will resize all images to 32 height and width just to be sure that iam using the images of same Size.\n",
    "#Transforms\n",
    "\n",
    "transformer = transforms.Compose(\n",
    "    [ transforms.Resize((32,32)),\n",
    "\n",
    "     transforms.ToTensor(),\n",
    "     transforms.Normalize((0.5,), (0.5,)),\n",
    "     transforms.Grayscale(num_output_channels=1)])\n",
    "     \n",
    "batch_size = 32\n",
    "\n"
   ]
  },
  {
   "cell_type": "code",
   "execution_count": 33,
   "metadata": {},
   "outputs": [
    {
     "name": "stdout",
     "output_type": "stream",
     "text": [
      "['Covid', 'Pneumonia', 'imageNormal']\n",
      "251\n",
      "66\n"
     ]
    }
   ],
   "source": [
    "#Dataloader\n",
    "#Path for training and testing directory\n",
    "\n",
    "train_path='trainGray'\n",
    "test_path='testGray'\n",
    "\n",
    "trainloader=DataLoader(\n",
    "    \n",
    "    torchvision.datasets.ImageFolder(train_path,transform=transformer),\n",
    "    batch_size=32, shuffle=True\n",
    "    \n",
    ")\n",
    "\n",
    "testloader=DataLoader(\n",
    "    \n",
    "    torchvision.datasets.ImageFolder(test_path,transform=transformer),\n",
    "    batch_size=32, shuffle=True\n",
    "    \n",
    ")\n",
    "\n",
    "#categories\n",
    "root=pathlib.Path(train_path)\n",
    "classes=sorted ([j.name.split('/')[-1] for j in root.iterdir()])\n",
    "\n",
    "print(classes)\n",
    "\n",
    "\n",
    "train_data_size = len(trainloader.dataset)\n",
    "test_data_size = len(testloader.dataset)\n",
    "\n",
    "print(train_data_size)\n",
    "print(test_data_size)"
   ]
  },
  {
   "cell_type": "code",
   "execution_count": 34,
   "metadata": {},
   "outputs": [],
   "source": [
    "#1. DEFINE THE CNN \n",
    "class CNN(nn.Module):\n",
    "    def __init__(self):\n",
    "        \n",
    "        super(CNN, self).__init__()\n",
    "        self.conv1 = nn.Conv2d(1, 6, (5,5))\n",
    "        self.pool = nn.MaxPool2d(2, 2)\n",
    "        self.conv2 = nn.Conv2d(6, 16, 5) \n",
    "        self.pool2 = nn.MaxPool2d(2, stride=2, padding=0)\n",
    "        self.fc1 = nn.Linear(16 * 5 * 5, 120)\n",
    "        self.fc2 = nn.Linear(120, 10)\n",
    "        self.relu = nn.ReLU()\n",
    "\n",
    "    def forward(self, x):\n",
    "        x = self.pool(self.relu(self.conv1(x)))\n",
    "        x = self.pool(self.relu(self.conv2(x)))\n",
    "        x = x.view(-1, 16 * 5 * 5) \n",
    "        x = self.relu(self.fc1(x))\n",
    "        x = self.fc2(x)\n",
    "        return x\n",
    "    \n",
    "    \n"
   ]
  },
  {
   "cell_type": "code",
   "execution_count": 35,
   "metadata": {
    "scrolled": true
   },
   "outputs": [
    {
     "data": {
      "text/plain": [
       "CNN(\n",
       "  (conv1): Conv2d(1, 6, kernel_size=(5, 5), stride=(1, 1))\n",
       "  (pool): MaxPool2d(kernel_size=2, stride=2, padding=0, dilation=1, ceil_mode=False)\n",
       "  (conv2): Conv2d(6, 16, kernel_size=(5, 5), stride=(1, 1))\n",
       "  (pool2): MaxPool2d(kernel_size=2, stride=2, padding=0, dilation=1, ceil_mode=False)\n",
       "  (fc1): Linear(in_features=400, out_features=120, bias=True)\n",
       "  (fc2): Linear(in_features=120, out_features=10, bias=True)\n",
       "  (relu): ReLU()\n",
       ")"
      ]
     },
     "execution_count": 35,
     "metadata": {},
     "output_type": "execute_result"
    }
   ],
   "source": [
    "model = CNN() # need to instantiate the network to be used in instance method\n",
    "\n",
    "# 2. LOSS AND OPTIMIZER\n",
    "criterion = nn.CrossEntropyLoss()\n",
    "optimizer = optim.SGD(model.parameters(), lr=0.001, momentum=0.9)\n",
    "\n",
    "# 3. move the model to GPU\n",
    "device = torch.device('cuda:0' if torch.cuda.is_available() else 'cpu')\n",
    "model.to(device)"
   ]
  },
  {
   "cell_type": "code",
   "execution_count": 36,
   "metadata": {},
   "outputs": [],
   "source": [
    "import time # to calculate training time\n",
    "\n",
    "def train_and_validate(model, loss_criterion, optimizer, epochs=25):\n",
    "    '''\n",
    "    Function to train and validate\n",
    "    Parameters\n",
    "        :param model: Model to train and validate\n",
    "        :param loss_criterion: Loss Criterion to minimize\n",
    "        :param optimizer: Optimizer for computing gradients\n",
    "        :param epochs: Number of epochs (default=25)\n",
    "  \n",
    "    Returns\n",
    "        model: Trained Model with best validation accuracy\n",
    "        history: (dict object): Having training loss, accuracy and validation loss, accuracy\n",
    "    '''\n",
    "    \n",
    "    start = time.time()\n",
    "    history = []\n",
    "    best_acc = 0.0\n",
    "\n",
    "    for epoch in range(epochs):\n",
    "        epoch_start = time.time()\n",
    "        print(\"Epoch: {}/{}\".format(epoch+1, epochs))\n",
    "        \n",
    "        # Set to training mode\n",
    "        model.train()\n",
    "        \n",
    "        # Loss and Accuracy within the epoch\n",
    "        train_loss = 0.0\n",
    "        train_acc = 0.0\n",
    "        \n",
    "        valid_loss = 0.0\n",
    "        valid_acc = 0.0\n",
    "        \n",
    "        for i, (inputs, labels) in enumerate(trainloader):\n",
    "\n",
    "            inputs = inputs.to(device)\n",
    "            labels = labels.to(device)\n",
    "            \n",
    "            # Clean existing gradients\n",
    "            optimizer.zero_grad()\n",
    "            \n",
    "            # Forward pass - compute outputs on input data using the model\n",
    "            outputs = model(inputs)\n",
    "            \n",
    "            # Compute loss\n",
    "            loss = loss_criterion(outputs, labels)\n",
    "            \n",
    "            # Backpropagate the gradients\n",
    "            loss.backward()\n",
    "            \n",
    "            # Update the parameters\n",
    "            optimizer.step()\n",
    "            \n",
    "            # Compute the total loss for the batch and add it to train_loss\n",
    "            train_loss += loss.item() * inputs.size(0)\n",
    "            \n",
    "            # Compute the accuracy\n",
    "            ret, predictions = torch.max(outputs.data, 1)\n",
    "            correct_counts = predictions.eq(labels.data.view_as(predictions))\n",
    "            \n",
    "            # Convert correct_counts to float and then compute the mean\n",
    "            acc = torch.mean(correct_counts.type(torch.FloatTensor))\n",
    "            \n",
    "            # Compute total accuracy in the whole batch and add to train_acc\n",
    "            train_acc += acc.item() * inputs.size(0)\n",
    "            \n",
    "            #print(\"Batch number: {:03d}, Training: Loss: {:.4f}, Accuracy: {:.4f}\".format(i, loss.item(), acc.item()))\n",
    "\n",
    "            \n",
    "        # Validation - No gradient tracking needed\n",
    "        with torch.no_grad():\n",
    "\n",
    "            # Set to evaluation mode\n",
    "            model.eval()\n",
    "\n",
    "            # Validation loop\n",
    "            for j, (inputs, labels) in enumerate(testloader):\n",
    "                inputs = inputs.to(device)\n",
    "                labels = labels.to(device)\n",
    "\n",
    "                # Forward pass - compute outputs on input data using the model\n",
    "                outputs = model(inputs)\n",
    "\n",
    "                # Compute loss\n",
    "                loss = loss_criterion(outputs, labels)\n",
    "\n",
    "                # Compute the total loss for the batch and add it to valid_loss\n",
    "                valid_loss += loss.item() * inputs.size(0)\n",
    "\n",
    "                # Calculate validation accuracy\n",
    "                ret, predictions = torch.max(outputs.data, 1)\n",
    "                correct_counts = predictions.eq(labels.data.view_as(predictions))\n",
    "\n",
    "                # Convert correct_counts to float and then compute the mean\n",
    "                acc = torch.mean(correct_counts.type(torch.FloatTensor))\n",
    "\n",
    "                # Compute total accuracy in the whole batch and add to valid_acc\n",
    "                valid_acc += acc.item() * inputs.size(0)\n",
    "\n",
    "                #print(\"Validation Batch number: {:03d}, Validation: Loss: {:.4f}, Accuracy: {:.4f}\".format(j, loss.item(), acc.item()))\n",
    "            \n",
    "        # Find average training loss and training accuracy\n",
    "        avg_train_loss = train_loss/train_data_size \n",
    "        avg_train_acc = train_acc/train_data_size\n",
    "\n",
    "        # Find average training loss and training accuracy\n",
    "        avg_test_loss = valid_loss/test_data_size \n",
    "        avg_test_acc = valid_acc/test_data_size\n",
    "\n",
    "        history.append([avg_train_loss, avg_test_loss, avg_train_acc, avg_test_acc])\n",
    "                \n",
    "        epoch_end = time.time()\n",
    "    \n",
    "        print(\"Epoch : {:03d}, Training: Loss: {:.4f}, Accuracy: {:.4f}%, \\n\\t\\tValidation : Loss : {:.4f}, Accuracy: {:.4f}%, Time: {:.4f}s\".format(epoch, avg_train_loss, avg_train_acc*100, avg_test_loss, avg_test_acc*100, epoch_end-epoch_start))\n",
    "        \n",
    "        # Save if the model has best accuracy till now\n",
    "        torch.save(model, 'cifar10_model_'+str(epoch)+'.pt')\n",
    "            \n",
    "    return model, history"
   ]
  },
  {
   "cell_type": "code",
   "execution_count": 43,
   "metadata": {
    "scrolled": true
   },
   "outputs": [
    {
     "name": "stdout",
     "output_type": "stream",
     "text": [
      "Epoch: 1/25\n",
      "Epoch : 000, Training: Loss: 0.5541, Accuracy: 81.6733%, \n",
      "\t\tValidation : Loss : 0.6576, Accuracy: 72.7273%, Time: 7.8048s\n",
      "Epoch: 2/25\n",
      "Epoch : 001, Training: Loss: 0.5145, Accuracy: 80.4781%, \n",
      "\t\tValidation : Loss : 0.5956, Accuracy: 72.7273%, Time: 7.8579s\n",
      "Epoch: 3/25\n",
      "Epoch : 002, Training: Loss: 0.4877, Accuracy: 82.0717%, \n",
      "\t\tValidation : Loss : 0.6024, Accuracy: 74.2424%, Time: 7.7940s\n",
      "Epoch: 4/25\n",
      "Epoch : 003, Training: Loss: 0.4735, Accuracy: 83.2669%, \n",
      "\t\tValidation : Loss : 0.6011, Accuracy: 72.7273%, Time: 7.8244s\n",
      "Epoch: 5/25\n",
      "Epoch : 004, Training: Loss: 0.4508, Accuracy: 84.0637%, \n",
      "\t\tValidation : Loss : 0.5612, Accuracy: 75.7576%, Time: 8.1016s\n",
      "Epoch: 6/25\n",
      "Epoch : 005, Training: Loss: 0.4376, Accuracy: 84.4622%, \n",
      "\t\tValidation : Loss : 0.5968, Accuracy: 72.7273%, Time: 8.6673s\n",
      "Epoch: 7/25\n",
      "Epoch : 006, Training: Loss: 0.4207, Accuracy: 84.4622%, \n",
      "\t\tValidation : Loss : 0.5513, Accuracy: 77.2727%, Time: 8.6508s\n",
      "Epoch: 8/25\n",
      "Epoch : 007, Training: Loss: 0.3977, Accuracy: 85.2590%, \n",
      "\t\tValidation : Loss : 0.5661, Accuracy: 74.2424%, Time: 8.2552s\n",
      "Epoch: 9/25\n",
      "Epoch : 008, Training: Loss: 0.4014, Accuracy: 83.2669%, \n",
      "\t\tValidation : Loss : 0.5697, Accuracy: 75.7576%, Time: 8.4307s\n",
      "Epoch: 10/25\n",
      "Epoch : 009, Training: Loss: 0.3808, Accuracy: 85.6574%, \n",
      "\t\tValidation : Loss : 0.5345, Accuracy: 78.7879%, Time: 8.1429s\n",
      "Epoch: 11/25\n",
      "Epoch : 010, Training: Loss: 0.3717, Accuracy: 84.8606%, \n",
      "\t\tValidation : Loss : 0.5468, Accuracy: 75.7576%, Time: 8.2391s\n",
      "Epoch: 12/25\n",
      "Epoch : 011, Training: Loss: 0.3632, Accuracy: 85.6574%, \n",
      "\t\tValidation : Loss : 0.5477, Accuracy: 77.2727%, Time: 8.1372s\n",
      "Epoch: 13/25\n",
      "Epoch : 012, Training: Loss: 0.3563, Accuracy: 86.0558%, \n",
      "\t\tValidation : Loss : 0.5375, Accuracy: 75.7576%, Time: 7.9696s\n",
      "Epoch: 14/25\n",
      "Epoch : 013, Training: Loss: 0.3616, Accuracy: 86.0558%, \n",
      "\t\tValidation : Loss : 0.5568, Accuracy: 77.2727%, Time: 8.7227s\n",
      "Epoch: 15/25\n",
      "Epoch : 014, Training: Loss: 0.3467, Accuracy: 87.6494%, \n",
      "\t\tValidation : Loss : 0.5501, Accuracy: 77.2727%, Time: 8.3236s\n",
      "Epoch: 16/25\n",
      "Epoch : 015, Training: Loss: 0.3418, Accuracy: 86.0558%, \n",
      "\t\tValidation : Loss : 0.5127, Accuracy: 80.3030%, Time: 8.1486s\n",
      "Epoch: 17/25\n",
      "Epoch : 016, Training: Loss: 0.3361, Accuracy: 87.2510%, \n",
      "\t\tValidation : Loss : 0.5460, Accuracy: 78.7879%, Time: 8.2078s\n",
      "Epoch: 18/25\n",
      "Epoch : 017, Training: Loss: 0.3369, Accuracy: 88.0478%, \n",
      "\t\tValidation : Loss : 0.5253, Accuracy: 78.7879%, Time: 7.9970s\n",
      "Epoch: 19/25\n",
      "Epoch : 018, Training: Loss: 0.3235, Accuracy: 88.4462%, \n",
      "\t\tValidation : Loss : 0.5414, Accuracy: 77.2727%, Time: 8.0033s\n",
      "Epoch: 20/25\n",
      "Epoch : 019, Training: Loss: 0.3270, Accuracy: 87.6494%, \n",
      "\t\tValidation : Loss : 0.5171, Accuracy: 80.3030%, Time: 7.8091s\n",
      "Epoch: 21/25\n",
      "Epoch : 020, Training: Loss: 0.3166, Accuracy: 90.8367%, \n",
      "\t\tValidation : Loss : 0.5475, Accuracy: 78.7879%, Time: 7.7792s\n",
      "Epoch: 22/25\n",
      "Epoch : 021, Training: Loss: 0.3072, Accuracy: 89.2430%, \n",
      "\t\tValidation : Loss : 0.5224, Accuracy: 81.8182%, Time: 8.4695s\n",
      "Epoch: 23/25\n",
      "Epoch : 022, Training: Loss: 0.3089, Accuracy: 90.0398%, \n",
      "\t\tValidation : Loss : 0.5369, Accuracy: 78.7879%, Time: 8.0360s\n",
      "Epoch: 24/25\n",
      "Epoch : 023, Training: Loss: 0.3065, Accuracy: 89.6414%, \n",
      "\t\tValidation : Loss : 0.5299, Accuracy: 80.3030%, Time: 8.0740s\n",
      "Epoch: 25/25\n",
      "Epoch : 024, Training: Loss: 0.3219, Accuracy: 87.2510%, \n",
      "\t\tValidation : Loss : 0.5068, Accuracy: 78.7879%, Time: 7.9941s\n"
     ]
    }
   ],
   "source": [
    "# 4. Train the model for 10 epochs\n",
    "\n",
    "num_epochs = 25\n",
    "trained_model, history = train_and_validate(model, criterion, optimizer, num_epochs)"
   ]
  },
  {
   "cell_type": "code",
   "execution_count": 44,
   "metadata": {},
   "outputs": [
    {
     "data": {
      "image/png": "[encoded data removed]",
      "text/plain": [
       "<Figure size 640x480 with 1 Axes>"
      ]
     },
     "metadata": {},
     "output_type": "display_data"
    }
   ],
   "source": [
    "# 5. Analyze the loss curve\n",
    "\n",
    "history = np.array(history)\n",
    "plt.plot(history[:,0:2])\n",
    "plt.legend(['Tr Loss', 'Val Loss'])\n",
    "plt.xlabel('Epoch Number')\n",
    "plt.ylabel('Loss')\n",
    "plt.ylim(0,3)\n",
    "# plt.savefig('cifar10_loss_curve.png')\n",
    "plt.show()"
   ]
  },
  {
   "cell_type": "code",
   "execution_count": 45,
   "metadata": {},
   "outputs": [
    {
     "data": {
      "image/png": "[encoded data removed]",
      "text/plain": [
       "<Figure size 640x480 with 1 Axes>"
      ]
     },
     "metadata": {},
     "output_type": "display_data"
    }
   ],
   "source": [
    "# 6. Analyze the accuracy curve\n",
    "\n",
    "plt.plot(history[:,2:4])\n",
    "plt.legend(['Tr Accuracy', 'Val Accuracy'])\n",
    "plt.xlabel('Epoch Number')\n",
    "plt.ylabel('Accuracy')\n",
    "plt.ylim(0,1)\n",
    "# plt.savefig('cifar10_accuracy_curve.png')\n",
    "plt.show()"
   ]
  },
  {
   "cell_type": "code",
   "execution_count": 46,
   "metadata": {},
   "outputs": [
    {
     "name": "stdout",
     "output_type": "stream",
     "text": [
      "Accuracy of the network on the 10000 test images: 78 %\n"
     ]
    }
   ],
   "source": [
    "correct = 0\n",
    "total = 0\n",
    "# since we're not training, we don't need to calculate the gradients for our outputs\n",
    "with torch.no_grad():\n",
    "    for data in testloader:\n",
    "#         images, labels = data\n",
    "        images, labels = data[0].to(device), data[1].to(device)\n",
    "        # calculate outputs by running images through the network\n",
    "#         images = images.view(images.size(0), -1)\n",
    "        outputs = model(images)\n",
    "        # the class with the highest energy is what we choose as prediction\n",
    "        _, predicted = torch.max(outputs.data, 1)\n",
    "        total += labels.size(0)\n",
    "        correct += (predicted == labels).sum().item()\n",
    "\n",
    "print(f'Accuracy of the network on the 10000 test images: {100 * correct // total} %')"
   ]
  },
  {
   "cell_type": "code",
   "execution_count": 47,
   "metadata": {},
   "outputs": [
    {
     "name": "stdout",
     "output_type": "stream",
     "text": [
      "Accuracy for class: Covid is 84.6 %\n",
      "Accuracy for class: Pneumonia is 90.0 %\n",
      "Accuracy for class: imageNormal is 60.0 %\n"
     ]
    }
   ],
   "source": [
    "# prepare to count predictions for each class\n",
    "correct_pred = {classname: 0 for classname in classes}\n",
    "total_pred = {classname: 0 for classname in classes}\n",
    "\n",
    "# again no gradients needed\n",
    "with torch.no_grad():\n",
    "    for data in testloader:\n",
    "        images, labels = data[0].to(device), data[1].to(device)\n",
    "#         images = images.view(images.size(0), -1)\n",
    "        outputs = model(images)\n",
    "        _, predictions = torch.max(outputs, 1)\n",
    "        # collect the correct predictions for each class\n",
    "        for label, prediction in zip(labels, predictions):\n",
    "            if label == prediction:\n",
    "                correct_pred[classes[label]] += 1\n",
    "            total_pred[classes[label]] += 1\n",
    "\n",
    "\n",
    "# print accuracy for each class\n",
    "for classname, correct_count in correct_pred.items():\n",
    "    accuracy = 100 * float(correct_count) / total_pred[classname]\n",
    "    print(f'Accuracy for class: {classname:5s} is {accuracy:.1f} %')\n",
    "    "
   ]
  },
  {
   "cell_type": "code",
   "execution_count": 48,
   "metadata": {},
   "outputs": [
    {
     "data": {
      "text/plain": [
       "<AxesSubplot: >"
      ]
     },
     "execution_count": 48,
     "metadata": {},
     "output_type": "execute_result"
    },
    {
     "data": {
      "image/png": "[encoded data removed]",
      "text/plain": [
       "<Figure size 2000x1000 with 2 Axes>"
      ]
     },
     "metadata": {},
     "output_type": "display_data"
    }
   ],
   "source": [
    "from sklearn.metrics import confusion_matrix\n",
    "import seaborn as sn\n",
    "import pandas as pd\n",
    "\n",
    "y_pred = []\n",
    "y_true = []\n",
    "\n",
    "model.to('cpu')\n",
    "\n",
    "# iterate over test data\n",
    "for inputs, labels in testloader:\n",
    "#         #reshape images so they can be fed to a nn.Linear()\n",
    "#         inputs = inputs.view(inputs.size(0), -1)\n",
    "        output = model(inputs) # Feed Network\n",
    "\n",
    "        output = (torch.max(torch.exp(output), 1)[1]).data.cpu().numpy()\n",
    "        y_pred.extend(output) # Save Prediction\n",
    "        \n",
    "        labels = labels.data.cpu().numpy()\n",
    "        y_true.extend(labels) # Save Truth\n",
    "\n",
    "\n",
    "# Build confusion matrix\n",
    "cf_matrix = confusion_matrix(y_true, y_pred)\n",
    "df_cm = pd.DataFrame(cf_matrix/np.sum(cf_matrix) *10, index = [i for i in classes],\n",
    "                     columns = [i for i in classes])\n",
    "plt.figure(figsize = (20,10))\n",
    "sn.heatmap(df_cm, annot=True)\n",
    "# plt.savefig('output.png')"
   ]
  },
  {
   "cell_type": "code",
   "execution_count": null,
   "metadata": {},
   "outputs": [],
   "source": []
  },
  {
   "cell_type": "code",
   "execution_count": null,
   "metadata": {},
   "outputs": [],
   "source": []
  }
 ],
 "metadata": {
  "kernelspec": {
   "display_name": "Python 3 (ipykernel)",
   "language": "python",
   "name": "python3"
  },
  "language_info": {
   "codemirror_mode": {
    "name": "ipython",
    "version": 3
   },
   "file_extension": ".py",
   "mimetype": "text/x-python",
   "name": "python",
   "nbconvert_exporter": "python",
   "pygments_lexer": "ipython3",
   "version": "3.10.8"
  }
 },
 "nbformat": 4,
 "nbformat_minor": 2
}
